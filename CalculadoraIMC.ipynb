{
 "cells": [
  {
   "cell_type": "code",
   "execution_count": 1,
   "metadata": {},
   "outputs": [
    {
     "name": "stdout",
     "output_type": "stream",
     "text": [
      "Tu índice de masa corporal es 27.34\n"
     ]
    }
   ],
   "source": [
    "peso = input(\"¿Cuál es tu peso en kg? \")\n",
    "estatura = input(\"¿Cuál es tu estatura en metros?\")\n",
    "imc = round(float(peso)/float(estatura)**2,2)\n",
    "print(\"Tu índice de masa corporal es \" + str(imc))"
   ]
  }
 ],
 "metadata": {
  "kernelspec": {
   "display_name": "Python 3.10.6 32-bit",
   "language": "python",
   "name": "python3"
  },
  "language_info": {
   "codemirror_mode": {
    "name": "ipython",
    "version": 3
   },
   "file_extension": ".py",
   "mimetype": "text/x-python",
   "name": "python",
   "nbconvert_exporter": "python",
   "pygments_lexer": "ipython3",
   "version": "3.10.6"
  },
  "orig_nbformat": 4,
  "vscode": {
   "interpreter": {
    "hash": "5d4428f9749bee6129ab9203e923d076f41b39ffe72dd161ebea472b29b0a091"
   }
  }
 },
 "nbformat": 4,
 "nbformat_minor": 2
}
